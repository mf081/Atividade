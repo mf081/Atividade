{
  "cells": [
    {
      "cell_type": "code",
      "execution_count": null,
      "metadata": {
        "id": "YGxx-ICaFznN"
      },
      "outputs": [],
      "source": []
    },
    {
      "cell_type": "markdown",
      "metadata": {
        "id": "_04XyM7tFznO"
      },
      "source": [
        "Questão 1:"
      ]
    },
    {
      "cell_type": "code",
      "execution_count": null,
      "metadata": {
        "colab": {
          "base_uri": "https://localhost:8080/"
        },
        "id": "9XhBGx-bFznR",
        "outputId": "b1e9b30d-4d75-4d1c-f318-cf4365440b8c"
      },
      "outputs": [],
      "source": [
        "vogais = ['a', 'e', 'i', 'o', 'u']\n",
        "vogaisM = ['A', 'E', 'I', 'O', 'U']\n",
        "letra = input('Digite uma Letra e vou te dizer se é uma Vogal ou Consoante')\n",
        "\n",
        "if letra in vogais or letra in vogaisM:\n",
        "    print(f'A letra {letra} é uma Vogal')\n",
        "else:\n",
        "    print(f'A letra {letra} é uma Consoante')"
      ]
    },
    {
      "cell_type": "markdown",
      "metadata": {
        "id": "HvlAdwM4FznS"
      },
      "source": [
        "Questão 2:"
      ]
    },
    {
      "cell_type": "code",
      "execution_count": null,
      "metadata": {
        "id": "a4pBqC8WFznS",
        "outputId": "66f027a1-63a4-4ac5-d4e8-b053e300eb58"
      },
      "outputs": [],
      "source": [
        "produto1 = input('Digite o Preço do Produto 1')\n",
        "produto2 = input('Digite o Preço do Produto 2')\n",
        "produto3 = input('Digite o Preço do Produto 3')\n",
        "\n",
        "if produto1 < produto2 and produto1 < produto3:\n",
        "    print('Você deve comprar o Produto 1')\n",
        "elif produto2 < produto1 and produto2 < produto3:\n",
        "    print('Você deve comprar o Produto 2')\n",
        "else:\n",
        "    print('Você deve comprar o Produto 3')\n",
        "\n"
      ]
    },
    {
      "cell_type": "markdown",
      "metadata": {
        "id": "EvnE5lKGFznT"
      },
      "source": [
        "Questão 3:"
      ]
    },
    {
      "cell_type": "code",
      "execution_count": null,
      "metadata": {
        "id": "PQY34J9iFznT",
        "outputId": "d3e49fc9-c09e-41c6-90c2-c8b5f1c86603"
      },
      "outputs": [],
      "source": [
        "numero1 = input('Digite o Numero 1')\n",
        "numero2 = input('Digite o Numero 2')\n",
        "numero3 = input('Digite o Numero 3')\n",
        "\n",
        "if numero1 > numero2 and numero2 > numero3:\n",
        "    print(f'Caso 1: Os números em ordem decrescente ficam {numero1}, {numero2}, {numero3}')\n",
        "\n",
        "elif numero1 > numero3 and numero3 > numero2:\n",
        "    print(f'Caso 2: Os números em ordem decrescente ficam {numero1}, {numero3}, {numero2}')\n",
        "\n",
        "elif numero2 > numero1 and numero1 > numero3:\n",
        "    print(f'Caso 3: Os números em ordem decrescente ficam {numero2}, {numero1}, {numero3}')\n",
        "\n",
        "elif numero2 > numero3 and numero3 > numero1:\n",
        "    print(f'Caso 4: Os números em ordem decrescente ficam {numero2}, {numero3}, {numero1}')\n",
        "\n",
        "elif numero3 > numero1 and numero1 > numero2:\n",
        "    print(f'Caso 5: Os números em ordem decrescente ficam {numero3}, {numero1}, {numero2}')\n",
        "\n",
        "else:\n",
        "    print(f'Caso 6: Os números em ordem decrescente ficam {numero3}, {numero2}, {numero1}')\n"
      ]
    },
    {
      "cell_type": "markdown",
      "metadata": {
        "id": "tjzTD7otFznT"
      },
      "source": [
        "Questão 4:"
      ]
    },
    {
      "cell_type": "code",
      "execution_count": null,
      "metadata": {
        "id": "R_XOFN09FznU"
      },
      "outputs": [],
      "source": [
        "turno = input('Digite qual seu turno = M-Matutino ou V-Vespertino ou N-Noturno')\n",
        "\n",
        "inicialTurno = ['m', 'v', 'n']\n",
        "inicialTurnoM = ['M', 'V', 'N']\n",
        "\n",
        "\n",
        "if turno == 'Matutino' or turno == 'MATUTINO'or turno == 'matutino' or  turno in inicialTurnoM[0] or turno in inicialTurno[0]:\n",
        "    print('Bom Dia!')\n",
        "elif turno == 'Vespertino' or turno == 'VESPERTINO' or turno == 'vespertino' or turno in inicialTurnoM[1] or turno in inicialTurno[1]:\n",
        "    print('Boa Tarde!')\n",
        "elif turno == 'Noturno' or turno == 'NOTURNO' or turno == 'noturno' or turno in inicialTurnoM[2] or turno in inicialTurno[2]:\n",
        "    print('Boa Noite!')\n",
        "else:\n",
        "    print('Valor Inválido!')\n",
        "\n"
      ]
    },
    {
      "cell_type": "markdown",
      "metadata": {
        "id": "ssTg8cUhFznU"
      },
      "source": [
        "Questão 5:"
      ]
    },
    {
      "cell_type": "code",
      "execution_count": null,
      "metadata": {
        "colab": {
          "base_uri": "https://localhost:8080/"
        },
        "id": "vxPnzz5hFznU",
        "outputId": "d28d9535-e4ae-4201-bdb6-a1050b3a0ad5"
      },
      "outputs": [],
      "source": [
        "diasDaSemana = ['Domingo','Segunda', 'Terça', 'Quarta', 'Quinta', 'Sexta', 'Sábado']\n",
        "numeroSemana = int(input('Digite o número da semana:'))\n",
        "\n",
        "if numeroSemana >= 1 and numeroSemana <=7:\n",
        "  print(diasDaSemana[numeroSemana - 1])\n",
        "else:\n",
        "  print('Valor Inválido!')\n",
        "\n",
        "    # if numeroSemana == '1':\n",
        "    #     print(diasDaSemana[0]) #domingo\n",
        "    # elif numeroSemana == '2':\n",
        "    #     print(diasDaSemana[1]) #segunda\n",
        "    # elif numeroSemana == '3':\n",
        "    #     print(diasDaSemana[2]) #terça\n",
        "    # elif numeroSemana == '4':\n",
        "    #     print(diasDaSemana[3]) #quarta\n",
        "    # elif numeroSemana == '5':\n",
        "    #     print(diasDaSemana[4]) #quinta\n",
        "    # elif numeroSemana == '6':\n",
        "    #     print(diasDaSemana[5]) #sexta\n",
        "    # elif numeroSemana == '7':\n",
        "    #     print(diasDaSemana[6]) #sabado\n",
        "    # else:\n",
        "    #     print('Valor Inválido!')"
      ]
    },
    {
      "cell_type": "markdown",
      "metadata": {
        "id": "G2u1xhLqFznV"
      },
      "source": [
        "Questão 5:"
      ]
    },
    {
      "cell_type": "code",
      "execution_count": null,
      "metadata": {
        "colab": {
          "base_uri": "https://localhost:8080/"
        },
        "id": "N1iJDOVGFznV",
        "outputId": "a7a940c6-e0f8-4cbb-d7f1-e14b2fbf772d"
      },
      "outputs": [],
      "source": [
        "parcial1 = float(input('Digite sua Primeira nota Parcial'))\n",
        "parcial2 = float(input('Digite sua Segunda nota Parcial'))\n",
        "media = (parcial1 + parcial2) / 2\n",
        "\n",
        "situacao = ['Aprovado', 'Reprovado']\n",
        "if media > 6.0:\n",
        "  situacao = situacao[0]\n",
        "else:\n",
        "  situacao = situacao[1]\n",
        "\n",
        "if media >= 9.0 and media <= 10:\n",
        "    print(f'Você foi {situacao} com as notas Parcial um: {parcial1} e Parcial 2: {parcial2}! com a média: {media} e Seu conceito é A')\n",
        "elif media >= 7.5 and media <= 9.0:\n",
        "    print(f'Você foi {situacao} com as notas Parcial um: {parcial1} e Parcial 2: {parcial2}! com a média: {media} e Seu conceito é B')\n",
        "elif media >= 6.0 and media <= 7.5:\n",
        "    print(f'Você foi {situacao} com as notas Parcial um: {parcial1} e Parcial 2: {parcial2}! com a média: {media} e Seu conceito é C')\n",
        "elif media >= 4.0 and media <= 6.0:\n",
        "    print(f'Você foi {situacao} com as notas Parcial um: {parcial1} e Parcial 2: {parcial2}! com a média: {media} e Seu conceito é D')\n",
        "else:\n",
        "    print(f'Você foi {situacao} com as notas Parcial um: {parcial1} e Parcial 2: {parcial2}! com a média: {media} e Seu conceito é E')\n",
        "\n"
      ]
    },
    {
      "cell_type": "markdown",
      "metadata": {
        "id": "8qB4EJblRlFL"
      },
      "source": [
        "Questão 6:"
      ]
    },
    {
      "cell_type": "code",
      "execution_count": null,
      "metadata": {
        "colab": {
          "base_uri": "https://localhost:8080/"
        },
        "id": "sn8PoWuUPwK0",
        "outputId": "602c1a2e-bf28-4d38-8da9-fb70de9c5b24"
      },
      "outputs": [],
      "source": [
        "#multiplo de 4\n",
        "anoBissexto = ['00']\n",
        "\n",
        "ano = int(input('Digite o numero de um ano: '))\n",
        "anoString = str(ano)\n",
        " #se for multiplo de 4 ou terminar com 00\n",
        "if anoString[-2:] in anoBissexto or ano % 4 == 0:\n",
        "    print('É Bissexto')\n",
        "else:\n",
        "    print('Não é Bissexto')\n",
        "\n",
        "\n"
      ]
    },
    {
      "cell_type": "markdown",
      "metadata": {
        "id": "IMv1PCgeZbqz"
      },
      "source": [
        "Questão 7:"
      ]
    },
    {
      "cell_type": "code",
      "execution_count": null,
      "metadata": {
        "colab": {
          "base_uri": "https://localhost:8080/"
        },
        "id": "prt9m3P6ZJWt",
        "outputId": "8733fc69-59ab-460a-b4a1-cd86d3d51466"
      },
      "outputs": [],
      "source": [
        "n1 = str(input('Digite o Primeiro Número: '))\n",
        "n2 = str(input('Digite o Segundo Número: '))\n",
        "operacao = input('Qual operação básica (soma + , subtração - , mutiplicação * , divisão / , exponenciação ** ) você deseja realizar?')\n",
        "\n",
        "intOuDec = ['Inteiro', 'Decimal']\n",
        "\n",
        "if '.' in n1 or '.' in n2:\n",
        "    intOuDec = intOuDec[1]\n",
        "    n1 = float(n1)\n",
        "    n2 = float(n2)\n",
        "else:\n",
        "    intOuDec = intOuDec[0]\n",
        "    n1 = int(n1)\n",
        "    n2 = int(n2)\n",
        "\n",
        "\n",
        "\n",
        "if operacao == 'soma' or operacao == '+':\n",
        "    resultado = n1 + n2\n",
        "    if resultado % 2 == 0:\n",
        "        \n",
        "        if resultado >= 0:\n",
        "            print(f'{resultado} é Par e Positivo e {intOuDec}')\n",
        "        else:\n",
        "            print(f'{resultado} é Par e Negativo e {intOuDec}')\n",
        "    else:\n",
        "        if resultado >= 0:\n",
        "            print(f'{resultado} é Ímpar e Positivo e {intOuDec}')\n",
        "        else:\n",
        "            print(f'{resultado} é Ímpar e Negativo e {intOuDec}')\n",
        "\n",
        "elif operacao == 'subtração' or operacao == '-':\n",
        "    resultado = n1 - n2\n",
        "    if resultado % 2 == 0:\n",
        "        if resultado >= 0:\n",
        "            print(f'{resultado} é Par, Positivo e {intOuDec}')\n",
        "        else:\n",
        "            print(f'{resultado} é Par, Negativo e {intOuDec}')\n",
        "    else:\n",
        "        if resultado >= 0:\n",
        "            print(f'{resultado} é Ímpar, Positivo e {intOuDec}')\n",
        "        else:\n",
        "            print(f'{resultado} é Ímpar, Negativo e {intOuDec}')\n",
        "\n",
        "elif operacao == 'multiplicação' or operacao == '*':\n",
        "    resultado = n1 * n2\n",
        "    if resultado % 2 == 0:\n",
        "        if resultado >= 0:\n",
        "            print(f'{resultado} é Par, Positivo e {intOuDec}')\n",
        "        else:\n",
        "            print(f'{resultado} é Par, Negativo e {intOuDec}')\n",
        "    else:\n",
        "        if resultado >= 0:\n",
        "            print(f'{resultado} é Ímpar, Positivo e {intOuDec}')\n",
        "        else:\n",
        "            print(f'{resultado} é Ímpar, Negativo e {intOuDec}')\n",
        "\n",
        "elif operacao == 'divisão' or operacao == '/':\n",
        "    if n2 != 0:\n",
        "        resultado = n1 / n2\n",
        "        if resultado % 2 == 0:\n",
        "            print(f'{resultado} é Par e {intOuDec}')\n",
        "        else:\n",
        "            print(f'{resultado} é Ímpar e {intOuDec}')\n",
        "    else:\n",
        "        print(\"Não é possível dividir por zero!\")\n",
        "\n",
        "elif operacao == 'exponenciação' or operacao == '**':\n",
        "    resultado = n1 ** n2\n",
        "    if resultado % 2 == 0:\n",
        "        print(f'{resultado} é Par')\n",
        "    else:\n",
        "        print(f'{resultado} é Ímpar')\n",
        "\n",
        "else:\n",
        "    print('Cálculo Inválido!')\n"
      ]
    },
    {
      "cell_type": "markdown",
      "metadata": {},
      "source": [
        "Questão 7 Versão 2:"
      ]
    },
    {
      "cell_type": "code",
      "execution_count": 1,
      "metadata": {
        "id": "DAqGmkHIZTxD"
      },
      "outputs": [
        {
          "name": "stdout",
          "output_type": "stream",
          "text": [
            "10.3 é Decimal, Positivo e Par\n"
          ]
        }
      ],
      "source": [
        "n1 = input('Digite o Primeiro Número: ')\n",
        "n2 = input('Digite o Segundo Número: ')\n",
        "calculo = input('Fale qual a operação: ')\n",
        "\n",
        "tipo_numero = ['Par', 'Ímpar']\n",
        "tipo_decimal = ['Inteiro', 'Decimal']\n",
        "\n",
        "if '.' in n1 or '.' in n2:\n",
        "    tipo_numero = tipo_decimal[1]\n",
        "    n1 = float(n1)\n",
        "    n2 = float(n2)\n",
        "else:\n",
        "    tipo_numero = tipo_decimal[0]\n",
        "\n",
        "if calculo == 'soma' or calculo == '+':\n",
        "    resultado = n1 + n2\n",
        "elif calculo == 'subtração' or calculo == '-':\n",
        "    resultado = n1 - n2\n",
        "elif calculo == 'multiplicação' or calculo == '*':\n",
        "    resultado = n1 * n2\n",
        "elif calculo == 'divisão' or calculo == '/':\n",
        "    if n2 != 0:\n",
        "        resultado = n1 / n2\n",
        "    else:\n",
        "        print(\"Não é possível dividir por zero!\")\n",
        "        exit()\n",
        "elif calculo == 'exponenciação' or calculo == '**':\n",
        "    resultado = n1 ** n2\n",
        "else:\n",
        "    print('Cálculo Inválido!')\n",
        "    exit()\n",
        "\n",
        "if int(resultado) % 2 == 0:\n",
        "    par_impar = 'Par'\n",
        "else:\n",
        "    par_impar = 'Ímpar'\n",
        "\n",
        "if resultado >= 0:\n",
        "    positivo_negativo = 'Positivo'\n",
        "else:\n",
        "    positivo_negativo = 'Negativo'\n",
        "\n",
        "print(f'{resultado} é {tipo_numero}, {positivo_negativo} e {par_impar}')\n"
      ]
    },
    {
      "cell_type": "markdown",
      "metadata": {},
      "source": [
        "Questão 8:"
      ]
    },
    {
      "cell_type": "code",
      "execution_count": 15,
      "metadata": {},
      "outputs": [
        {
          "name": "stdout",
          "output_type": "stream",
          "text": [
            "Sua idade é 18.\n"
          ]
        }
      ],
      "source": [
        "idade = int(input('Qual sua idade?'))\n",
        "\n",
        "if idade >= 0 and idade <= 150:\n",
        "    print(f'Sua idade é {idade}.')\n",
        "else:\n",
        "    print(f'Limites não Aceitos.')"
      ]
    },
    {
      "cell_type": "markdown",
      "metadata": {},
      "source": [
        "Questão 9:"
      ]
    },
    {
      "cell_type": "code",
      "execution_count": 44,
      "metadata": {},
      "outputs": [
        {
          "name": "stdout",
          "output_type": "stream",
          "text": [
            "15\n"
          ]
        }
      ],
      "source": [
        "numeros = []\n",
        "contador = 0\n",
        "while contador < 5:\n",
        "    numero = int(input(f'Digite o número: '))\n",
        "    numeros.append(numero)\n",
        "    \n",
        "    contador+= 1\n",
        "\n",
        "soma = 0\n",
        "for indice in numeros:\n",
        "    soma += indice\n",
        "\n",
        "print(f'{soma} e ')\n"
      ]
    },
    {
      "cell_type": "markdown",
      "metadata": {},
      "source": [
        "Questão 10:"
      ]
    },
    {
      "cell_type": "code",
      "execution_count": 43,
      "metadata": {},
      "outputs": [
        {
          "name": "stdout",
          "output_type": "stream",
          "text": [
            "O número é Primo\n"
          ]
        }
      ],
      "source": [
        "numero = int(input(\"Digite um número inteiro maior que 1: \"))\n",
        "\n",
        "for seletor in range(2, numero):\n",
        "    if numero % seletor == 0:\n",
        "        print('Não é Primo')\n",
        "        break\n",
        "else:\n",
        "    print('O número é Primo')\n"
      ]
    },
    {
      "cell_type": "markdown",
      "metadata": {},
      "source": [
        "Questão 11:"
      ]
    },
    {
      "cell_type": "code",
      "execution_count": null,
      "metadata": {},
      "outputs": [],
      "source": [
        "temperaturas = []\n",
        "\n",
        "temperatura = input\n",
        "\n",
        "for i in range(5):\n",
        "    temperatura = float(input(f\"Digite a temperatura {i + 1}: \"))\n",
        "    temperaturas.append(temperatura)\n",
        "\n",
        "\n",
        "maior_temperatura = temperaturas[0]\n",
        "menor_temperatura = temperaturas[0]\n",
        "soma_temperaturas = 0\n",
        "\n",
        "\n",
        "for temperatura in temperaturas:\n",
        "\n",
        "    if temperatura > maior_temperatura:\n",
        "        maior_temperatura = temperatura\n",
        "\n",
        "        if temperatura < menor_temperatura:\n",
        "        menor_temperatura = temperatura\n",
        "    \n",
        "    soma_temperaturas += temperatura\n",
        "\n",
        "media_temperaturas = soma_temperaturas / len(temperaturas)\n",
        "\n",
        "print(f\"A maior temperatura é: {maior_temperatura}°C\")\n",
        "print(f\"A menor temperatura é: {menor_temperatura}°C\")\n",
        "print(f\"A média das temperaturas é: {media_temperaturas:.2f}°C\")\n"
      ]
    },
    {
      "cell_type": "markdown",
      "metadata": {},
      "source": [
        "Questão 11 Versão 2:"
      ]
    },
    {
      "cell_type": "code",
      "execution_count": null,
      "metadata": {},
      "outputs": [],
      "source": [
        "# Solicita ao usuário as temperaturas diretamente nas condições\n",
        "temperatura1 = float(input(\"Digite a temperatura 1: \"))\n",
        "temperatura2 = float(input(\"Digite a temperatura 2: \"))\n",
        "temperatura3 = float(input(\"Digite a temperatura 3: \"))\n",
        "temperatura4 = float(input(\"Digite a temperatura 4: \"))\n",
        "temperatura5 = float(input(\"Digite a temperatura 5: \"))\n",
        "\n",
        "# Inicializa as variáveis da maior e menor temperatura com a primeira temperatura fornecida\n",
        "maior_temperatura = temperatura1\n",
        "menor_temperatura = temperatura1\n",
        "\n",
        "# Verifica a maior e menor temperatura comparando cada temperatura\n",
        "if temperatura2 > maior_temperatura:\n",
        "    maior_temperatura = temperatura2\n",
        "elif temperatura2 < menor_temperatura:\n",
        "    menor_temperatura = temperatura2\n",
        "\n",
        "if temperatura3 > maior_temperatura:\n",
        "    maior_temperatura = temperatura3\n",
        "elif temperatura3 < menor_temperatura:\n",
        "    menor_temperatura = temperatura3\n",
        "\n",
        "if temperatura4 > maior_temperatura:\n",
        "    maior_temperatura = temperatura4\n",
        "elif temperatura4 < menor_temperatura:\n",
        "    menor_temperatura = temperatura4\n",
        "\n",
        "if temperatura5 > maior_temperatura:\n",
        "    maior_temperatura = temperatura5\n",
        "elif temperatura5 < menor_temperatura:\n",
        "    menor_temperatura = temperatura5\n",
        "\n",
        "# Calcula a média das temperaturas\n",
        "soma_temperaturas = temperatura1 + temperatura2 + temperatura3 + temperatura4 + temperatura5\n",
        "media_temperaturas = soma_temperaturas / 5\n",
        "\n",
        "print(f\"A maior temperatura é: {maior_temperatura}°C\")\n",
        "print(f\"A menor temperatura é: {menor_temperatura}°C\")\n",
        "print(f\"A média das temperaturas é: {media_temperaturas:.2f}°C\")\n"
      ]
    },
    {
      "cell_type": "markdown",
      "metadata": {},
      "source": [
        "Questão 12:"
      ]
    },
    {
      "cell_type": "code",
      "execution_count": null,
      "metadata": {},
      "outputs": [],
      "source": [
        "saldo = float(input(\"Digite o saldo médio do cliente: \"))\n",
        "\n",
        "if saldo >= 0 and saldo <= 200:\n",
        "    credito = 0  \n",
        "elif saldo <= 400:\n",
        "    credito = saldo * 0.20  \n",
        "elif saldo <= 600:\n",
        "    credito = saldo * 0.30  \n",
        "else:\n",
        "    credito = saldo * 0.40  \n",
        "\n",
        "print(f\"Saldo médio: R${saldo}\")\n",
        "print(f\"Valor do crédito: R${credito}\")\n"
      ]
    },
    {
      "cell_type": "markdown",
      "metadata": {},
      "source": [
        "Questão 13:"
      ]
    },
    {
      "cell_type": "code",
      "execution_count": 45,
      "metadata": {},
      "outputs": [
        {
          "name": "stdout",
          "output_type": "stream",
          "text": [
            "mateus, você irá se aposentar no ano de 2071.\n"
          ]
        }
      ],
      "source": [
        "nome = input(\"Qual é o seu nome? \")\n",
        "idade = int(input(\"Quantos anos você tem? \"))\n",
        "anoAtual = 2024  \n",
        "idadeAposentadoria = 65\n",
        "anoAposentadoria = anoAtual + (idadeAposentadoria - idade)\n",
        "print(f\"{nome}, você irá se aposentar no ano de {anoAposentadoria}.\")\n"
      ]
    },
    {
      "cell_type": "markdown",
      "metadata": {},
      "source": [
        "Questão 14:"
      ]
    },
    {
      "cell_type": "code",
      "execution_count": 46,
      "metadata": {},
      "outputs": [
        {
          "name": "stdout",
          "output_type": "stream",
          "text": [
            "Salário Bruto: R$ 2000.00\n",
            "Desconto do Imposto de Renda: R$ 0.00\n",
            "Desconto do Sindicato: R$ 60.00\n",
            "FGTS: R$ 220.00\n",
            "Salário Líquido: R$ 1940.00\n"
          ]
        }
      ],
      "source": [
        "valorHora = float(input(\"Digite o valor da sua hora de trabalho: \"))\n",
        "horasTrabalhadas = float(input(\"Digite a quantidade de horas trabalhadas no mês: \"))\n",
        "\n",
        "salarioBruto = horasTrabalhadas * valorHora\n",
        "\n",
        "if salarioBruto <= 2112.00:\n",
        "    ir = 0\n",
        "elif salarioBruto <= 2826.65:\n",
        "    ir = salarioBruto * 0.075\n",
        "elif salarioBruto <= 3751.05:\n",
        "    ir = salarioBruto * 0.15\n",
        "elif salarioBruto <= 4664.68:\n",
        "    ir = salarioBruto * 0.225\n",
        "else:\n",
        "    ir = salarioBruto * 0.275\n",
        "\n",
        "sindicato = salarioBruto * 0.03\n",
        "\n",
        "fgts = salarioBruto * 0.11\n",
        "\n",
        "salario_liquido = salarioBruto - ir - sindicato\n",
        "\n",
        "print(f\"Salário Bruto: R$ {salarioBruto:.2f}\")\n",
        "print(f\"Desconto do Imposto de Renda: R$ {ir:.2f}\")\n",
        "print(f\"Desconto do Sindicato: R$ {sindicato:.2f}\")\n",
        "print(f\"FGTS: R$ {fgts:.2f}\")\n",
        "print(f\"Salário Líquido: R$ {salario_liquido:.2f}\")\n"
      ]
    }
  ],
  "metadata": {
    "colab": {
      "provenance": []
    },
    "kernelspec": {
      "display_name": "Python 3",
      "language": "python",
      "name": "python3"
    },
    "language_info": {
      "codemirror_mode": {
        "name": "ipython",
        "version": 3
      },
      "file_extension": ".py",
      "mimetype": "text/x-python",
      "name": "python",
      "nbconvert_exporter": "python",
      "pygments_lexer": "ipython3",
      "version": "3.12.1"
    }
  },
  "nbformat": 4,
  "nbformat_minor": 0
}
