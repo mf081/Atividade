{
 "cells": [
  {
   "cell_type": "code",
   "execution_count": 5,
   "metadata": {},
   "outputs": [
    {
     "ename": "ValueError",
     "evalue": "could not convert string to float: ''",
     "output_type": "error",
     "traceback": [
      "\u001b[1;31m---------------------------------------------------------------------------\u001b[0m",
      "\u001b[1;31mValueError\u001b[0m                                Traceback (most recent call last)",
      "Cell \u001b[1;32mIn[5], line 3\u001b[0m\n\u001b[0;32m      1\u001b[0m \u001b[38;5;28;01mfor\u001b[39;00m produto \u001b[38;5;129;01min\u001b[39;00m \u001b[38;5;28mrange\u001b[39m (\u001b[38;5;241m0\u001b[39m,\u001b[38;5;241m4\u001b[39m):\n\u001b[0;32m      2\u001b[0m     p \u001b[38;5;241m=\u001b[39m \u001b[38;5;28mstr\u001b[39m (\u001b[38;5;28minput\u001b[39m(\u001b[38;5;124m\"\u001b[39m\u001b[38;5;124mDigite o Nome do Produto:\u001b[39m\u001b[38;5;124m\"\u001b[39m))\n\u001b[1;32m----> 3\u001b[0m     v \u001b[38;5;241m=\u001b[39m \u001b[38;5;28;43mfloat\u001b[39;49m\u001b[43m(\u001b[49m\u001b[38;5;28;43minput\u001b[39;49m\u001b[43m(\u001b[49m\u001b[38;5;124;43m\"\u001b[39;49m\u001b[38;5;124;43mDigite o Valor do Produto\u001b[39;49m\u001b[38;5;124;43m\"\u001b[39;49m\u001b[43m)\u001b[49m\u001b[43m)\u001b[49m\n",
      "\u001b[1;31mValueError\u001b[0m: could not convert string to float: ''"
     ]
    }
   ],
   "source": [
    "for produto in range (0,4):\n",
    "    p = str (input(\"Digite o Nome do Produto:\"))\n",
    "    v = float(input(\"Digite o Valor do Produto\"))"
   ]
  },
  {
   "cell_type": "code",
   "execution_count": null,
   "metadata": {},
   "outputs": [],
   "source": [
    "for elemento in [1, 2, 3, 4, 5, 6]:\n",
    "    print('Estamos no Elemento', elemento )"
   ]
  },
  {
   "cell_type": "code",
   "execution_count": null,
   "metadata": {},
   "outputs": [],
   "source": [
    "for elemento in 'MATEUS':\n",
    "    print('Estamos no elemento', elemento)"
   ]
  },
  {
   "cell_type": "markdown",
   "metadata": {},
   "source": [
    "#Range é o intervalo\n",
    "#Len quantidade dos Elementos"
   ]
  },
  {
   "cell_type": "code",
   "execution_count": null,
   "metadata": {},
   "outputs": [],
   "source": [
    "#Range é o intervalo\n",
    "#Len quantidade dos Elementos\n",
    "for elemento in range(len('STRING')): \n",
    "    print('estamos no elemento ', elemento) "
   ]
  },
  {
   "cell_type": "markdown",
   "metadata": {},
   "source": [
    "Esturua de Repetição = while\n",
    "#Range é o intervalo\n",
    "#Len quantidade dos Elementos"
   ]
  },
  {
   "cell_type": "code",
   "execution_count": null,
   "metadata": {},
   "outputs": [],
   "source": [
    "produto = 0 #Inicialização\n",
    "while produto < 4: #Condição\n",
    "    p = str(input('Digite o nome do Produto:')) #Corpo do loop (While)\n",
    "    v = float(input('Digite o valor do Produto')) \n",
    "    produto += 1 #Incremento\n"
   ]
  },
  {
   "cell_type": "code",
   "execution_count": null,
   "metadata": {},
   "outputs": [],
   "source": [
    "#Qual o Resultado dos seugintes comandos:\n",
    "\n",
    "elemento = 0\n",
    "\n",
    "while elemento <= len([1, 2, 3, 4, 5, 6]):\n",
    "    print('Estamos no elemento ', elemento)\n",
    "    elemento += 1 #Ecremento para evitar loop infinito"
   ]
  },
  {
   "cell_type": "code",
   "execution_count": null,
   "metadata": {},
   "outputs": [],
   "source": [
    "s = 'STRING'\n",
    "indice = 0\n",
    "\n",
    "while indice in range (len (s)):\n",
    "    print('Estamos no elemento ', s[indice])\n",
    "    indice += 1"
   ]
  },
  {
   "cell_type": "code",
   "execution_count": null,
   "metadata": {},
   "outputs": [],
   "source": [
    "s = 'STRING'\n",
    "indice = 0\n",
    "\n",
    "while indice in range (len (s)):\n",
    "    print('Estamos no elemento ', indice)\n",
    "    indice += 1"
   ]
  },
  {
   "cell_type": "markdown",
   "metadata": {},
   "source": [
    "Cenário 1: temos previamente o número de repetições - o para é uma estrutura mais adequada.\n",
    "\n",
    "Cenário 2: não sabemos quantas repetições serão necessárias - o enquanto é a estrutura mais adequada."
   ]
  },
  {
   "cell_type": "code",
   "execution_count": null,
   "metadata": {},
   "outputs": [
    {
     "name": "stdout",
     "output_type": "stream",
     "text": [
      "0 t\n",
      "1 r\n",
      "2 a\n",
      "3 n\n",
      "4 q\n",
      "5 u\n",
      "6 i\n",
      "7 l\n",
      "8 o\n"
     ]
    }
   ],
   "source": [
    "palavra = 'tranquilo'\n",
    "for indice, letra in enumerate (palavra):\n",
    "    print(indice, letra)"
   ]
  },
  {
   "cell_type": "markdown",
   "metadata": {},
   "source": [
    "Função Enumerate()"
   ]
  },
  {
   "cell_type": "code",
   "execution_count": null,
   "metadata": {},
   "outputs": [],
   "source": [
    "lista = ['eat, sleep, repeat']\n",
    "palavra = 'geek'"
   ]
  },
  {
   "cell_type": "code",
   "execution_count": null,
   "metadata": {},
   "outputs": [],
   "source": [
    "objeto1 = enumerate(lista)\n",
    "objeto2 = enumerate (palavra)"
   ]
  },
  {
   "cell_type": "code",
   "execution_count": null,
   "metadata": {},
   "outputs": [
    {
     "name": "stdout",
     "output_type": "stream",
     "text": [
      "Tipo:  <class 'enumerate'>\n",
      "[(0, 'eat, sleep, repeat')]\n"
     ]
    }
   ],
   "source": [
    "print('Tipo: ', type(objeto1))\n",
    "print(list (enumerate(lista)))"
   ]
  },
  {
   "cell_type": "markdown",
   "metadata": {},
   "source": [
    "Mudando a Indexação inicial de 0 para 2"
   ]
  },
  {
   "cell_type": "code",
   "execution_count": 6,
   "metadata": {},
   "outputs": [
    {
     "name": "stdout",
     "output_type": "stream",
     "text": [
      "[(2, 'g'), (3, 'e'), (4, 'e'), (5, 'k')]\n"
     ]
    }
   ],
   "source": [
    "print(list(enumerate(palavra, 2)))"
   ]
  },
  {
   "cell_type": "markdown",
   "metadata": {},
   "source": [
    "1. Quantas vezes a palavra OI é impressa pelos seguintes comandos?"
   ]
  },
  {
   "cell_type": "code",
   "execution_count": 23,
   "metadata": {},
   "outputs": [
    {
     "name": "stdout",
     "output_type": "stream",
     "text": [
      "Oi\n",
      "Oi\n",
      "Oi\n",
      "Oi\n",
      "Oi\n",
      "Oi\n",
      "Oi\n",
      "Oi\n",
      "Oi\n",
      "Oi\n",
      "Oi\n",
      "Oi\n",
      "Oi\n"
     ]
    }
   ],
   "source": [
    "frase = 'viva o python'\n",
    "\n",
    "for letras in frase:\n",
    "    print('Oi')"
   ]
  },
  {
   "cell_type": "code",
   "execution_count": 16,
   "metadata": {},
   "outputs": [
    {
     "name": "stdout",
     "output_type": "stream",
     "text": [
      "Oi\n",
      "Oi\n",
      "Oi\n",
      "Oi\n",
      "Oi\n"
     ]
    }
   ],
   "source": [
    "frase = 'viva o python'\n",
    "\n",
    "for letras in frase[3:8]:\n",
    "    print('Oi')"
   ]
  },
  {
   "cell_type": "markdown",
   "metadata": {},
   "source": [
    "EXEMPLO DE WHILE:\n",
    "produto = 0 #Inicialização\n",
    "while produto < 4: #Condição\n",
    "    p = str(input('Digite o nome do Produto:')) #Corpo do loop (While)\n",
    "    v = float(input('Digite o valor do Produto')) \n",
    "    produto += 1 #Incremento\n"
   ]
  },
  {
   "cell_type": "markdown",
   "metadata": {},
   "source": [
    "DESAFIO\n",
    "1. Faça um programa que peça 10 numero inteiros\n",
    "calcule e mostre a quantidade de numeros pares e a quantidade de numeros inpares"
   ]
  },
  {
   "cell_type": "code",
   "execution_count": 41,
   "metadata": {},
   "outputs": [
    {
     "name": "stdout",
     "output_type": "stream",
     "text": [
      "A quantidade numeros  Impares foi 0\n",
      "A quantidade numeros Pares foi 10\n"
     ]
    }
   ],
   "source": [
    "contador = 0\n",
    "\n",
    "numeroImpar = 0\n",
    "numeroPar = 0\n",
    "\n",
    "while contador < 10:\n",
    "    numero = int(input('Digite um número'))\n",
    "    if (numero % 2 == 0):\n",
    "        numeroPar += 1\n",
    "    else:\n",
    "        numeroImpar += 1\n",
    "    contador += 1 \n",
    "\n",
    "print(f'A quantidade numeros  Impares foi {numeroImpar}')\n",
    "print(f'A quantidade numeros Pares foi {numeroPar}')\n",
    "\n",
    "\n",
    "\n",
    "\n",
    "\n",
    "\n",
    "    \n"
   ]
  },
  {
   "cell_type": "code",
   "execution_count": 53,
   "metadata": {},
   "outputs": [
    {
     "name": "stdout",
     "output_type": "stream",
     "text": [
      "A quantidade numeros  Impares foi 1\n",
      "A quantidade numeros Pares foi 9\n"
     ]
    }
   ],
   "source": [
    "contador = 0\n",
    "\n",
    "numeroImpar = 0\n",
    "numeroPar = 0\n",
    "\n",
    "for i in range(10):\n",
    "    numero = int(input('Digite um número'))\n",
    "    if (numero % 2 == 0):\n",
    "        numeroPar += 1\n",
    "    else:\n",
    "        numeroImpar += 1\n",
    "\n",
    "print(f'A quantidade numeros  Impares foi {numeroImpar}')\n",
    "print(f'A quantidade numeros Pares foi {numeroPar}')\n",
    "\n",
    "\n",
    "\n",
    "\n",
    "\n",
    "\n",
    "    \n"
   ]
  }
 ],
 "metadata": {
  "kernelspec": {
   "display_name": "Python 3",
   "language": "python",
   "name": "python3"
  },
  "language_info": {
   "codemirror_mode": {
    "name": "ipython",
    "version": 3
   },
   "file_extension": ".py",
   "mimetype": "text/x-python",
   "name": "python",
   "nbconvert_exporter": "python",
   "pygments_lexer": "ipython3",
   "version": "3.11.9"
  }
 },
 "nbformat": 4,
 "nbformat_minor": 2
}
