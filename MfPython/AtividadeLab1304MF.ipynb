{
 "cells": [
  {
   "cell_type": "code",
   "execution_count": 6,
   "metadata": {},
   "outputs": [],
   "source": [
    "#1) Faça um Programa que peça 2 números inteiros e um número real. Calcule e mostre:\n",
    "\n",
    "numero1 = int(input())\n",
    "numero2 = int(input())\n",
    "numero3 = float(input())\n",
    "\n"
   ]
  },
  {
   "cell_type": "code",
   "execution_count": 7,
   "metadata": {},
   "outputs": [
    {
     "name": "stdout",
     "output_type": "stream",
     "text": [
      "200.0\n"
     ]
    }
   ],
   "source": [
    "#a)O produto do dobro do primeiro com metade do segundo.\n",
    "numero1 = 10\n",
    "numero2 = 20\n",
    "numero3 = 0.0\n",
    "numero3 = (numero1 * 2) * (numero2 / 2)\n",
    "print(numero3)\n"
   ]
  },
  {
   "cell_type": "code",
   "execution_count": 8,
   "metadata": {},
   "outputs": [
    {
     "data": {
      "text/plain": [
       "30.0"
      ]
     },
     "execution_count": 8,
     "metadata": {},
     "output_type": "execute_result"
    }
   ],
   "source": [
    "#b)A soma do triplo do primeiro com o terceiro. o terceiro elevado ao cubo.\n",
    "numero1 = 10\n",
    "numero3 = 0.0\n",
    "(numero1 * 3) + (numero3 ** 3)\n",
    "\n"
   ]
  },
  {
   "cell_type": "code",
   "execution_count": 12,
   "metadata": {},
   "outputs": [
    {
     "name": "stdout",
     "output_type": "stream",
     "text": [
      "66\n"
     ]
    }
   ],
   "source": [
    "#2) Faça um Programa que peça dois números e imprima o maior deles.\n",
    "numero1 = int(input())\n",
    "numero2 = int(input())\n",
    "if(numero1 > numero2):\n",
    "    print(numero1)\n",
    "else:\n",
    "    print(numero2)\n",
    "    \n",
    "\n",
    "\n"
   ]
  },
  {
   "cell_type": "code",
   "execution_count": 13,
   "metadata": {},
   "outputs": [
    {
     "name": "stdout",
     "output_type": "stream",
     "text": [
      "negativo\n"
     ]
    }
   ],
   "source": [
    "#3) Faça um Programa que peça um valor e mostre na tela se o valor é positivo ou negativo.\n",
    "numero = int(input(\"Digite um número:\"))\n",
    "if(numero < 0):\n",
    "    print(\"negativo\")\n",
    "else:\n",
    "    print(\"positivo\")\n",
    "\n",
    "\n",
    "\n"
   ]
  },
  {
   "cell_type": "code",
   "execution_count": 14,
   "metadata": {},
   "outputs": [
    {
     "name": "stdout",
     "output_type": "stream",
     "text": [
      "Reprovado\n"
     ]
    }
   ],
   "source": [
    "#) Faça um programa para a leitura de duas notas parciais de um aluno.\n",
    "# O programa deve calcular a média alcançada por aluno e apresentar o resultado \"Aprovado\" ou \"Reprovado\".\n",
    "# Considere que a escola adota média 7.00.\n",
    "\n",
    "nota1 = int(input())\n",
    "nota2 = int(input())\n",
    "\n",
    "if((nota1 + nota2) / 2 >= 7.00):\n",
    "    print(\"Aprovado\")\n",
    "else:\n",
    "    print(\"Reprovado\")\n",
    "    \n",
    "    \n",
    "\n"
   ]
  },
  {
   "cell_type": "code",
   "execution_count": 77,
   "metadata": {},
   "outputs": [
    {
     "name": "stdout",
     "output_type": "stream",
     "text": [
      "6\n"
     ]
    }
   ],
   "source": [
    "#5)Faça um Programa que leia três números e mostre o maior deles.\n",
    "\n",
    "numero1 = int(input())\n",
    "numero2 = int(input())\n",
    "numero3 = int(input())\n",
    "\n",
    "if(numero1 > numero2 and numero3 < numero1):\n",
    "    print(numero1)\n",
    "elif(numero2 > numero1 and numero2 > numero3):\n",
    "    print(numero2)\n",
    "else:\n",
    "    print(numero3)\n",
    "\n",
    "\n"
   ]
  }
 ],
 "metadata": {
  "kernelspec": {
   "display_name": "Python 3",
   "language": "python",
   "name": "python3"
  },
  "language_info": {
   "codemirror_mode": {
    "name": "ipython",
    "version": 3
   },
   "file_extension": ".py",
   "mimetype": "text/x-python",
   "name": "python",
   "nbconvert_exporter": "python",
   "pygments_lexer": "ipython3",
   "version": "3.12.1"
  }
 },
 "nbformat": 4,
 "nbformat_minor": 2
}
