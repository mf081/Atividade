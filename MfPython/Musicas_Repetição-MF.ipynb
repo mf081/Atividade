{
 "cells": [
  {
   "cell_type": "code",
   "execution_count": 4,
   "metadata": {},
   "outputs": [
    {
     "name": "stdout",
     "output_type": "stream",
     "text": [
      "5 patinhos foram passear, mas só 4 patinhos voltaram de lá\n",
      "4 patinhos foram passear, mas só 3 patinhos voltaram de lá\n",
      "3 patinhos foram passear, mas só 2 patinhos voltaram de lá\n",
      "2 patinhos foram passear, mas só 1 patinhos voltaram de lá\n",
      "1 foi passear, mas nenhum dos patinhos voltou de lá\n"
     ]
    }
   ],
   "source": [
    "patos = 5 \n",
    "while patos >= 1:  \n",
    "    if patos == 1:\n",
    "        print(f'{patos} foi passear, mas nenhum dos patinhos voltou de lá')  \n",
    "        patos -= 1  \n",
    "    else:\n",
    "        print(f'{patos} patinhos foram passear, mas só {patos-1} patinhos voltaram de lá')  \n",
    "        patos -= 1  \n"
   ]
  },
  {
   "cell_type": "code",
   "execution_count": 89,
   "metadata": {},
   "outputs": [
    {
     "name": "stdout",
     "output_type": "stream",
     "text": [
      "1 Elefante incomoda muita gente\n",
      "2 Elefantes Incomodam Incomodam  muito mais\n",
      "3 Elefantes Incomodam muito mais\n",
      "4 Elefantes Incomodam Incomodam Incomodam Incomodam  muito mais\n",
      "5 Elefantes Incomodam muito mais\n",
      "6 Elefantes Incomodam Incomodam Incomodam Incomodam Incomodam Incomodam  muito mais\n",
      "7 Elefantes Incomodam muito mais\n",
      "8 Elefantes Incomodam Incomodam Incomodam Incomodam Incomodam Incomodam Incomodam Incomodam  muito mais\n",
      "9 Elefantes Incomodam muito mais\n",
      "10 Elefantes Incomodam Incomodam Incomodam Incomodam Incomodam Incomodam Incomodam Incomodam Incomodam Incomodam  muito mais\n"
     ]
    }
   ],
   "source": [
    "pIncomodam = 'Incomodam '\n",
    "qElefantes = 1\n",
    "while qElefantes <= 10:\n",
    "\n",
    "    if qElefantes == 1:\n",
    "        print('1 Elefante incomoda muita gente')\n",
    "        qElefantes += 1\n",
    "    elif qElefantes % 2 == 0:\n",
    "        print(f\"{qElefantes} Elefantes {pIncomodam * qElefantes} muito mais\")\n",
    "        qElefantes += 1\n",
    "    else:\n",
    "        print(f'{qElefantes} Elefantes Incomodam muito mais')\n",
    "        qElefantes += 1\n",
    "\n",
    "# incomoda = 'Incomoda '\n",
    "# elefante = 1\n",
    "# for elefante in range (1,11):\n",
    "#     print(f'{elefante} elefante {incomoda * elefante} muita gente')"
   ]
  },
  {
   "cell_type": "code",
   "execution_count": 1,
   "metadata": {},
   "outputs": [
    {
     "name": "stdout",
     "output_type": "stream",
     "text": [
      "10 Elefantes Incomodam Incomodam Incomodam Incomodam Incomodam Incomodam Incomodam Incomodam Incomodam Incomodam  muito mais\n",
      "9 Elefantes Incomodam muita gente\n",
      "8 Elefantes Incomodam Incomodam Incomodam Incomodam Incomodam Incomodam Incomodam Incomodam  muito mais\n",
      "7 Elefantes Incomodam muita gente\n",
      "6 Elefantes Incomodam Incomodam Incomodam Incomodam Incomodam Incomodam  muito mais\n",
      "5 Elefantes Incomodam muita gente\n",
      "4 Elefantes Incomodam Incomodam Incomodam Incomodam  muito mais\n",
      "3 Elefantes Incomodam muita gente\n",
      "2 Elefantes Incomodam Incomodam  muito mais\n",
      "1 Elefante incomoda muita gente\n"
     ]
    }
   ],
   "source": [
    "pIncomodam = 'Incomodam '\n",
    "qElefantes = 10\n",
    "while qElefantes >= 1:\n",
    "\n",
    "    if qElefantes == 1:\n",
    "        print('1 Elefante incomoda muita gente')\n",
    "        qElefantes -= 1\n",
    "    elif qElefantes % 2 == 0:\n",
    "        print(f\"{qElefantes} Elefantes {pIncomodam * qElefantes} muito mais\")\n",
    "        qElefantes -= 1\n",
    "    else:\n",
    "        print(f'{qElefantes} Elefantes Incomodam muita gente')\n",
    "        qElefantes -= 1"
   ]
  },
  {
   "cell_type": "code",
   "execution_count": 3,
   "metadata": {},
   "outputs": [
    {
     "name": "stdout",
     "output_type": "stream",
     "text": [
      "Mariana conta 1 é [' É Um']\n",
      "Mariana conta 2 é [' É Um', ' É Dois']\n",
      "Mariana conta 3 é [' É Um', ' É Dois', ' É Três ']\n",
      "Mariana conta 4 é [' É Um', ' É Dois', ' É Três ', ' É Quatro ']\n",
      "Mariana conta 5 é [' É Um', ' É Dois', ' É Três ', ' É Quatro ', ' É Cinco ']\n",
      "Mariana conta 6 é [' É Um', ' É Dois', ' É Três ', ' É Quatro ', ' É Cinco ', ' É Seis ']\n",
      "Mariana conta 7 é [' É Um', ' É Dois', ' É Três ', ' É Quatro ', ' É Cinco ', ' É Seis ', ' É Sete ']\n",
      "Mariana conta 8 é [' É Um', ' É Dois', ' É Três ', ' É Quatro ', ' É Cinco ', ' É Seis ', ' É Sete ', ' É Oito ']\n",
      "Mariana conta 9 é [' É Um', ' É Dois', ' É Três ', ' É Quatro ', ' É Cinco ', ' É Seis ', ' É Sete ', ' É Oito ', ' É Nove']\n",
      "Mariana conta 10 é [' É Um', ' É Dois', ' É Três ', ' É Quatro ', ' É Cinco ', ' É Seis ', ' É Sete ', ' É Oito ', ' É Nove', ' É Dez ']\n"
     ]
    }
   ],
   "source": [
    "listaNumeros = [' É Um', ' É Dois', ' É Três ', ' É Quatro ', ' É Cinco ', ' É Seis ', ' É Sete ', ' É Oito ', ' É Nove', ' É Dez ']\n",
    "quantidadeNumeros = 1\n",
    "while quantidadeNumeros <= 10:\n",
    "    print(f'Mariana conta {quantidadeNumeros} é {listaNumeros[:quantidadeNumeros]}')\n",
    "    quantidadeNumeros += 1"
   ]
  }
 ],
 "metadata": {
  "kernelspec": {
   "display_name": "Python 3",
   "language": "python",
   "name": "python3"
  },
  "language_info": {
   "codemirror_mode": {
    "name": "ipython",
    "version": 3
   },
   "file_extension": ".py",
   "mimetype": "text/x-python",
   "name": "python",
   "nbconvert_exporter": "python",
   "pygments_lexer": "ipython3",
   "version": "3.11.9"
  }
 },
 "nbformat": 4,
 "nbformat_minor": 2
}
