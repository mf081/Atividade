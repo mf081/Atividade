{
 "cells": [
  {
   "cell_type": "code",
   "execution_count": 3,
   "metadata": {},
   "outputs": [],
   "source": [
    "L = []\n",
    "\n"
   ]
  },
  {
   "cell_type": "code",
   "execution_count": 4,
   "metadata": {},
   "outputs": [
    {
     "data": {
      "text/plain": [
       "3"
      ]
     },
     "execution_count": 4,
     "metadata": {},
     "output_type": "execute_result"
    }
   ],
   "source": [
    "#lista com 3 elementos\n",
    "dias = [3,1,10]\n",
    "dias[0]\n",
    "\n"
   ]
  },
  {
   "cell_type": "code",
   "execution_count": 5,
   "metadata": {},
   "outputs": [
    {
     "data": {
      "text/plain": [
       "1"
      ]
     },
     "execution_count": 5,
     "metadata": {},
     "output_type": "execute_result"
    }
   ],
   "source": [
    "dias[1]\n"
   ]
  },
  {
   "cell_type": "code",
   "execution_count": 6,
   "metadata": {},
   "outputs": [
    {
     "data": {
      "text/plain": [
       "10"
      ]
     },
     "execution_count": 6,
     "metadata": {},
     "output_type": "execute_result"
    }
   ],
   "source": [
    "dias[2]"
   ]
  },
  {
   "cell_type": "code",
   "execution_count": 7,
   "metadata": {},
   "outputs": [
    {
     "data": {
      "text/plain": [
       "[7, 8, 9]"
      ]
     },
     "execution_count": 7,
     "metadata": {},
     "output_type": "execute_result"
    }
   ],
   "source": [
    "#Modificando listas:\n",
    "Z =[3,8,9]\n",
    "Z[0] = 7\n",
    "Z"
   ]
  },
  {
   "cell_type": "code",
   "execution_count": 8,
   "metadata": {},
   "outputs": [
    {
     "name": "stdout",
     "output_type": "stream",
     "text": [
      "True\n",
      "True\n",
      "[5, 7, 5, 8, 9]\n",
      "[5, 7, 5, 8, 9]\n"
     ]
    }
   ],
   "source": [
    "V = [6,7,5,8,9]\n",
    "L = V\n",
    "print(V==L)\n",
    "print(V is L)\n",
    "V[0]=5\n",
    "print(V)\n",
    "print(L)"
   ]
  },
  {
   "cell_type": "code",
   "execution_count": 9,
   "metadata": {},
   "outputs": [
    {
     "name": "stdout",
     "output_type": "stream",
     "text": [
      "True\n",
      "False\n",
      "[81, 82, 83]\n",
      "[5, 82, 83]\n"
     ]
    }
   ],
   "source": [
    "#clonando listas\n",
    "a = [81,82,83]\n",
    "b = a[:] #cria um clone com fatia\n",
    "print(a == b)\n",
    "print(a is b)\n",
    "b[0] = 5\n",
    "print(a)\n",
    "print(b)"
   ]
  },
  {
   "cell_type": "code",
   "execution_count": 10,
   "metadata": {},
   "outputs": [
    {
     "name": "stdout",
     "output_type": "stream",
     "text": [
      "['b', 'c']\n",
      "['a', 'b', 'c', 'd']\n",
      "['d', 'e', 'f']\n",
      "['a', 'b', 'c', 'd', 'e', 'f']\n"
     ]
    }
   ],
   "source": [
    "uma_lista = ['a','b','c','d','e','f',]\n",
    "print(uma_lista[1:3])\n",
    "print(uma_lista[:4]) #mostra  de 0 ate o indice 4\n",
    "print(uma_lista[3:]) #mostra  do indice 3 até o final da lista\n",
    "print(uma_lista[:]) #mostra a lista toda"
   ]
  },
  {
   "cell_type": "code",
   "execution_count": 11,
   "metadata": {},
   "outputs": [
    {
     "name": "stdout",
     "output_type": "stream",
     "text": [
      "3\n"
     ]
    }
   ],
   "source": [
    "#Praticar Listas\n",
    "a = [1,2,3]\n",
    "b = a[:]\n",
    "b[0] = 5\n",
    "# print(a[3])\n",
    "print(a[3 - 1])"
   ]
  },
  {
   "cell_type": "markdown",
   "metadata": {},
   "source": [
    "#2)cria uma lista chamada minhaLista com os seguintes itens: 76,92.3,oi,true,4,76 depois execute os seguintes comandos:\n",
    "\n",
    "a) Inserir \"pitomba\" e 76 do final da lista.\n",
    "b) Inserir o valor \"Cibele\" na posição de Indice 3.\n",
    "c) Inserir o valor 99 no início da lista.\n",
    "d) Encontrar o Índice de \"oi\".\n",
    "e) Remover True da Lista."
   ]
  },
  {
   "cell_type": "code",
   "execution_count": 12,
   "metadata": {},
   "outputs": [],
   "source": [
    "##2)cria uma lista chamada minhaLista com os seguintes itens: 76,92.3,oi,true,4,76 depois execute os seguintes comandos:\n",
    "minhaLista = [76,92.3,'oi',True,4,76]"
   ]
  },
  {
   "cell_type": "code",
   "execution_count": 13,
   "metadata": {},
   "outputs": [
    {
     "name": "stdout",
     "output_type": "stream",
     "text": [
      "[76, 92.3, 'oi', True, 'pitomba', 76]\n"
     ]
    }
   ],
   "source": [
    "#a) Inserir \"pitomba\" e 76 do final da lista.\n",
    "\n",
    "minhaLista = [76,92.3,'oi',True,4,76]\n",
    "cloneLista = minhaLista[:]\n",
    "cloneLista[4:] = 'pitomba', 76\n",
    "print(cloneLista)\n",
    "\n"
   ]
  },
  {
   "cell_type": "code",
   "execution_count": 14,
   "metadata": {},
   "outputs": [
    {
     "name": "stdout",
     "output_type": "stream",
     "text": [
      "[76, 92.3, 'oi', True, 4, 76]\n"
     ]
    }
   ],
   "source": [
    "#b) Inserir o valor \"Cibele\" na posição de Indice 3.\n",
    "minhaLista = [76,92.3,'oi',True,4,76]\n",
    "cloneLista = minhaLista[:]\n",
    "minhaLista[2] = 'cibele'\n",
    "print(cloneLista)"
   ]
  },
  {
   "cell_type": "code",
   "execution_count": 15,
   "metadata": {},
   "outputs": [
    {
     "name": "stdout",
     "output_type": "stream",
     "text": [
      "[99, 92.3, 'oi', True, 4, 76]\n"
     ]
    }
   ],
   "source": [
    "#c) Inserir o valor 99 no início da lista.\n",
    "minhaLista = [76,92.3,'oi',True,4,76]\n",
    "cloneLista = minhaLista[:]\n",
    "cloneLista[0] = 99\n",
    "print(cloneLista)"
   ]
  },
  {
   "cell_type": "code",
   "execution_count": 16,
   "metadata": {},
   "outputs": [
    {
     "name": "stdout",
     "output_type": "stream",
     "text": [
      "O indice é 2\n"
     ]
    }
   ],
   "source": [
    "#d) Encontrar o Índice de \"oi\".\n",
    "minhaLista = [76,92.3,'oi',True,4,76]\n",
    "cloneLista = minhaLista[:]\n",
    "if(cloneLista[0] == 'oi'):\n",
    "    print(f'O indice é {0}')\n",
    "if(cloneLista[1] == 'oi'):\n",
    "    print(f'O indice é {1}')\n",
    "if(cloneLista[2] == 'oi'):\n",
    "    print(f'O indice é {2}')\n",
    "if(cloneLista[3] == 'oi'):\n",
    "    print(f'O indice é {3}')\n",
    "if(cloneLista[4] == 'oi'):\n",
    "    print(f'O indice é {4}')\n",
    "\n",
    "\n"
   ]
  },
  {
   "cell_type": "code",
   "execution_count": 17,
   "metadata": {},
   "outputs": [
    {
     "name": "stdout",
     "output_type": "stream",
     "text": [
      "[76, 92.3, 'oi', 4, 76]\n"
     ]
    }
   ],
   "source": [
    "#remover o True da lista\n",
    "minhaLista = [76,92.3,'oi',True,4,76]\n",
    "cloneLista = minhaLista[:]\n",
    "print(minhaLista[:3] + minhaLista[4:])\n"
   ]
  },
  {
   "cell_type": "code",
   "execution_count": 18,
   "metadata": {},
   "outputs": [
    {
     "data": {
      "text/plain": [
       "(10, 20, 30)"
      ]
     },
     "execution_count": 18,
     "metadata": {},
     "output_type": "execute_result"
    }
   ],
   "source": [
    "#tupla\n",
    "tupla_numeros = (10, 20, 30)\n",
    "tupla_numeros\n",
    "\n"
   ]
  },
  {
   "cell_type": "code",
   "execution_count": 19,
   "metadata": {},
   "outputs": [
    {
     "data": {
      "text/plain": [
       "(10, 20, 30)"
      ]
     },
     "execution_count": 19,
     "metadata": {},
     "output_type": "execute_result"
    }
   ],
   "source": [
    "tupla_nova = 10,20,30\n",
    "tupla_nova\n"
   ]
  },
  {
   "cell_type": "code",
   "execution_count": 20,
   "metadata": {},
   "outputs": [
    {
     "data": {
      "text/plain": [
       "(10,)"
      ]
     },
     "execution_count": 20,
     "metadata": {},
     "output_type": "execute_result"
    }
   ],
   "source": [
    "tupla_elemento = 10,\n",
    "tupla_elemento"
   ]
  },
  {
   "cell_type": "code",
   "execution_count": 21,
   "metadata": {},
   "outputs": [
    {
     "data": {
      "text/plain": [
       "('t', 'e', 's', 't', 'e')"
      ]
     },
     "execution_count": 21,
     "metadata": {},
     "output_type": "execute_result"
    }
   ],
   "source": [
    "nova_tupla = tuple('teste')\n",
    "nova_tupla"
   ]
  },
  {
   "cell_type": "code",
   "execution_count": 22,
   "metadata": {},
   "outputs": [
    {
     "name": "stdout",
     "output_type": "stream",
     "text": [
      "0\n",
      "1\n"
     ]
    }
   ],
   "source": [
    "tupla_nomes = ('Marlene', 'Zezinho', 'Marlene', 'Cibele', 'Zuely')\n",
    "tupla_nomes.count('Marlene')\n",
    "print(tupla_nomes.count('Suely'))\n",
    "print(tupla_nomes.count('Zezinho'))\n",
    "\n",
    "#\".count\" = metodo contador"
   ]
  },
  {
   "cell_type": "code",
   "execution_count": 25,
   "metadata": {},
   "outputs": [
    {
     "name": "stdout",
     "output_type": "stream",
     "text": [
      "3\n"
     ]
    }
   ],
   "source": [
    "tupla_elemento = (1, 2, 2, 3, 4, 4, 4, 5)\n",
    "tupla_elemento.count(4)\n",
    "print(tupla_elemento.count(4))\n",
    "\n"
   ]
  }
 ],
 "metadata": {
  "kernelspec": {
   "display_name": "Python 3",
   "language": "python",
   "name": "python3"
  },
  "language_info": {
   "codemirror_mode": {
    "name": "ipython",
    "version": 3
   },
   "file_extension": ".py",
   "mimetype": "text/x-python",
   "name": "python",
   "nbconvert_exporter": "python",
   "pygments_lexer": "ipython3",
   "version": "3.11.9"
  }
 },
 "nbformat": 4,
 "nbformat_minor": 2
}
