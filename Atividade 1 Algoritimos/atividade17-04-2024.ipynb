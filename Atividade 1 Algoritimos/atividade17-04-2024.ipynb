{
 "cells": [
  {
   "cell_type": "code",
   "execution_count": 30,
   "metadata": {},
   "outputs": [
    {
     "name": "stdout",
     "output_type": "stream",
     "text": [
      "O ano do seu carro é 20000, e o preço é 100.0. o imposto a ser pago é: 1.5.\n"
     ]
    }
   ],
   "source": [
    "ano = int(input('Digite o ano do carro:'))\n",
    "preco = float(input('Digite o preço do seu carro:'))\n",
    "\n",
    "taxaUmPorcento = 1/100 * preco\n",
    "taxaUmPorcentoMeio = 1.5/100 * preco\n",
    "\n",
    "\n",
    "if (ano < 1990 ):\n",
    "    print(f'O ano do seu carro é {ano} e o preço é {preco}. o impostoa ser pago é: {(taxaUmPorcento)}.')\n",
    "else:\n",
    "    print(f'O ano do seu carro é {ano}, e o preço é {preco}. o imposto a ser pago é: {(taxaUmPorcentoMeio)}.')"
   ]
  },
  {
   "cell_type": "code",
   "execution_count": null,
   "metadata": {},
   "outputs": [],
   "source": [
    "1/100 * preco \n",
    "1.5/100 * preco "
   ]
  },
  {
   "cell_type": "code",
   "execution_count": 9,
   "metadata": {},
   "outputs": [],
   "source": [
    "#Pede o salário e o cargo do Funcionário\n",
    "salario = float(input('Digite o seu salário:'))\n",
    "#Pede o cargo do Funcionário\n",
    "cargo =  input('Digite o seu cargo:')\n",
    "\n",
    "#Verificando se o cargo é de gerente\n",
    "if(cargo == 'Gerente' or cargo == 'gerente' or cargo == '101'):\n",
    "    aumento = 10/100 * salario\n",
    "    diferenca = (aumento + salario) - salario\n",
    "    print(f'Seu cargo é Gerente, seu salario é: {aumento + salario} e a diferença é {diferenca}')\n",
    "#Verificando se o cargo é de Engenheiro\n",
    "elif(cargo == 'Engenheiro' or cargo == 'engenheiro' or cargo == '102' ):\n",
    "    aumento = 20/100 * salario\n",
    "    diferenca = (aumento + salario) - salario\n",
    "    print(f'Seu cargo é Engenheiro, seu salario é: {aumento + salario} e a diferença é {diferenca}')\n",
    "#Veficiando se o cargo é de Técnico\n",
    "elif( cargo == 'Tecnico' or cargo == 'tecnico' or cargo == 'Técnico' or  cargo =='técnico' or cargo =='103'):\n",
    "    aumento = 30/100 * salario\n",
    "    diferenca = (aumento + salario) - salario\n",
    "    print(f'Seu cargo é Técnico, seu salario é: {aumento + salario} e a diferença é {diferenca}')\n",
    "#Verficiando se não for nenhum cargo\n",
    "else:\n",
    "    aumento = 40/100 * salario\n",
    "    diferenca = (aumento + salario) - salario\n",
    "    print(f'Você não tem Cargo, seu salario é: {aumento + salario} e a diferença é {diferenca}')\n",
    "\n"
   ]
  }
 ],
 "metadata": {
  "kernelspec": {
   "display_name": "Python 3",
   "language": "python",
   "name": "python3"
  },
  "language_info": {
   "codemirror_mode": {
    "name": "ipython",
    "version": 3
   },
   "file_extension": ".py",
   "mimetype": "text/x-python",
   "name": "python",
   "nbconvert_exporter": "python",
   "pygments_lexer": "ipython3",
   "version": "3.11.9"
  }
 },
 "nbformat": 4,
 "nbformat_minor": 2
}
